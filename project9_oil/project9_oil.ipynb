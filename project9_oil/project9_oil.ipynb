{
 "cells": [
  {
   "cell_type": "markdown",
   "metadata": {},
   "source": [
    "# Описание проекта"
   ]
  },
  {
   "cell_type": "markdown",
   "metadata": {},
   "source": [
    "Допустим, вы работаете в добывающей компании «ГлавРосГосНефть». Нужно решить, где бурить новую скважину.\n",
    "\n",
    "Вам предоставлены пробы нефти в трёх регионах: в каждом 10 000 месторождений, где измерили качество нефти и объём её запасов. Постройте модель машинного обучения, которая поможет определить регион, где добыча принесёт наибольшую прибыль. Проанализируйте возможную прибыль и риски техникой *Bootstrap.*\n",
    "\n",
    "Шаги для выбора локации:\n",
    "\n",
    "- В избранном регионе ищут месторождения, для каждого определяют значения признаков;\n",
    "- Строят модель и оценивают объём запасов;\n",
    "- Выбирают месторождения с самым высокими оценками значений. Количество месторождений зависит от бюджета компании и стоимости разработки одной скважины;\n",
    "- Прибыль равна суммарной прибыли отобранных месторождений."
   ]
  },
  {
   "cell_type": "markdown",
   "metadata": {},
   "source": [
    "# 1. Загрузка и подготовка данных"
   ]
  },
  {
   "cell_type": "code",
   "execution_count": 2,
   "metadata": {},
   "outputs": [],
   "source": [
    "import pandas as pd\n",
    "import numpy as np\n",
    "import pylab as pl\n",
    "import matplotlib.pyplot as plt\n",
    "\n",
    "from sklearn.linear_model import LinearRegression\n",
    "from sklearn.model_selection import train_test_split\n",
    "from sklearn.preprocessing import StandardScaler\n",
    "\n",
    "from sklearn.model_selection import GridSearchCV\n",
    "from sklearn.metrics import mean_squared_error\n",
    "\n",
    "df0 = pd.read_csv('https://code.s3.yandex.net/datasets/geo_data_0.csv')\n",
    "df1 = pd.read_csv('https://code.s3.yandex.net/datasets/geo_data_1.csv')\n",
    "df2 = pd.read_csv('https://code.s3.yandex.net/datasets/geo_data_2.csv')\n",
    "\n",
    "\n",
    "import warnings\n",
    "warnings.filterwarnings('ignore')"
   ]
  },
  {
   "cell_type": "code",
   "execution_count": 3,
   "metadata": {},
   "outputs": [
    {
     "name": "stdout",
     "output_type": "stream",
     "text": [
      "<class 'pandas.core.frame.DataFrame'>\n",
      "RangeIndex: 100000 entries, 0 to 99999\n",
      "Data columns (total 5 columns):\n",
      " #   Column   Non-Null Count   Dtype  \n",
      "---  ------   --------------   -----  \n",
      " 0   id       100000 non-null  object \n",
      " 1   f0       100000 non-null  float64\n",
      " 2   f1       100000 non-null  float64\n",
      " 3   f2       100000 non-null  float64\n",
      " 4   product  100000 non-null  float64\n",
      "dtypes: float64(4), object(1)\n",
      "memory usage: 3.8+ MB\n",
      "None\n",
      "<class 'pandas.core.frame.DataFrame'>\n",
      "RangeIndex: 100000 entries, 0 to 99999\n",
      "Data columns (total 5 columns):\n",
      " #   Column   Non-Null Count   Dtype  \n",
      "---  ------   --------------   -----  \n",
      " 0   id       100000 non-null  object \n",
      " 1   f0       100000 non-null  float64\n",
      " 2   f1       100000 non-null  float64\n",
      " 3   f2       100000 non-null  float64\n",
      " 4   product  100000 non-null  float64\n",
      "dtypes: float64(4), object(1)\n",
      "memory usage: 3.8+ MB\n",
      "None\n",
      "<class 'pandas.core.frame.DataFrame'>\n",
      "RangeIndex: 100000 entries, 0 to 99999\n",
      "Data columns (total 5 columns):\n",
      " #   Column   Non-Null Count   Dtype  \n",
      "---  ------   --------------   -----  \n",
      " 0   id       100000 non-null  object \n",
      " 1   f0       100000 non-null  float64\n",
      " 2   f1       100000 non-null  float64\n",
      " 3   f2       100000 non-null  float64\n",
      " 4   product  100000 non-null  float64\n",
      "dtypes: float64(4), object(1)\n",
      "memory usage: 3.8+ MB\n",
      "None\n"
     ]
    }
   ],
   "source": [
    "print(df0.info())\n",
    "print(df1.info())\n",
    "print(df2.info())"
   ]
  },
  {
   "cell_type": "code",
   "execution_count": 4,
   "metadata": {},
   "outputs": [
    {
     "name": "stdout",
     "output_type": "stream",
     "text": [
      "      id        f0        f1        f2     product\n",
      "0  txEyH  0.705745 -0.497823  1.221170  105.280062\n",
      "1  2acmU  1.334711 -0.340164  4.365080   73.037750\n",
      "2  409Wp  1.022732  0.151990  1.419926   85.265647\n",
      "3  iJLyR -0.032172  0.139033  2.978566  168.620776\n",
      "4  Xdl7t  1.988431  0.155413  4.751769  154.036647\n",
      "      id         f0         f1        f2     product\n",
      "0  kBEdx -15.001348  -8.276000 -0.005876    3.179103\n",
      "1  62mP7  14.272088  -3.475083  0.999183   26.953261\n",
      "2  vyE1P   6.263187  -5.948386  5.001160  134.766305\n",
      "3  KcrkZ -13.081196 -11.506057  4.999415  137.945408\n",
      "4  AHL4O  12.702195  -8.147433  5.004363  134.766305\n",
      "      id        f0        f1        f2     product\n",
      "0  fwXo0 -1.146987  0.963328 -0.828965   27.758673\n",
      "1  WJtFt  0.262778  0.269839 -2.530187   56.069697\n",
      "2  ovLUW  0.194587  0.289035 -5.586433   62.871910\n",
      "3  q6cA6  2.236060 -0.553760  0.930038  114.572842\n",
      "4  WPMUX -0.515993  1.716266  5.899011  149.600746\n"
     ]
    }
   ],
   "source": [
    "print(df0.head())\n",
    "print(df1.head())\n",
    "print(df2.head())"
   ]
  },
  {
   "cell_type": "code",
   "execution_count": 5,
   "metadata": {},
   "outputs": [
    {
     "name": "stdout",
     "output_type": "stream",
     "text": [
      "Уникальных id:  99990\n",
      "Количество NaN:\n",
      " id         0\n",
      "f0         0\n",
      "f1         0\n",
      "f2         0\n",
      "product    0\n",
      "dtype: int64\n",
      "Уникальных id:  99996\n",
      "Количество NaN:\n",
      " id         0\n",
      "f0         0\n",
      "f1         0\n",
      "f2         0\n",
      "product    0\n",
      "dtype: int64\n",
      "Уникальных id:  99996\n",
      "Количество NaN:\n",
      " id         0\n",
      "f0         0\n",
      "f1         0\n",
      "f2         0\n",
      "product    0\n",
      "dtype: int64\n"
     ]
    }
   ],
   "source": [
    "for df in [df0, df1, df2]:\n",
    "    print('Уникальных id: ', len(df['id'].unique()))\n",
    "    print('Количество NaN:\\n', df1.isna().sum())"
   ]
  },
  {
   "cell_type": "code",
   "execution_count": 5,
   "metadata": {},
   "outputs": [
    {
     "name": "stdout",
     "output_type": "stream",
     "text": [
      "                  f0             f1             f2        product\n",
      "count  100000.000000  100000.000000  100000.000000  100000.000000\n",
      "mean        0.500419       0.250143       2.502647      92.500000\n",
      "std         0.871832       0.504433       3.248248      44.288691\n",
      "min        -1.408605      -0.848218     -12.088328       0.000000\n",
      "25%        -0.072580      -0.200881       0.287748      56.497507\n",
      "50%         0.502360       0.250252       2.515969      91.849972\n",
      "75%         1.073581       0.700646       4.715088     128.564089\n",
      "max         2.362331       1.343769      16.003790     185.364347\n",
      "                  f0             f1             f2        product\n",
      "count  100000.000000  100000.000000  100000.000000  100000.000000\n",
      "mean        1.141296      -4.796579       2.494541      68.825000\n",
      "std         8.965932       5.119872       1.703572      45.944423\n",
      "min       -31.609576     -26.358598      -0.018144       0.000000\n",
      "25%        -6.298551      -8.267985       1.000021      26.953261\n",
      "50%         1.153055      -4.813172       2.011479      57.085625\n",
      "75%         8.621015      -1.332816       3.999904     107.813044\n",
      "max        29.421755      18.734063       5.019721     137.945408\n",
      "                  f0             f1             f2        product\n",
      "count  100000.000000  100000.000000  100000.000000  100000.000000\n",
      "mean        0.002023      -0.002081       2.495128      95.000000\n",
      "std         1.732045       1.730417       3.473445      44.749921\n",
      "min        -8.760004      -7.084020     -11.970335       0.000000\n",
      "25%        -1.162288      -1.174820       0.130359      59.450441\n",
      "50%         0.009424      -0.009482       2.484236      94.925613\n",
      "75%         1.158535       1.163678       4.858794     130.595027\n",
      "max         7.238262       7.844801      16.739402     190.029838\n"
     ]
    },
    {
     "data": {
      "image/png": "[encoded data removed]",
      "text/plain": [
       "<Figure size 432x288 with 4 Axes>"
      ]
     },
     "metadata": {
      "needs_background": "light"
     },
     "output_type": "display_data"
    },
    {
     "data": {
      "image/png": "[encoded data removed]",
      "text/plain": [
       "<Figure size 432x288 with 4 Axes>"
      ]
     },
     "metadata": {
      "needs_background": "light"
     },
     "output_type": "display_data"
    },
    {
     "data": {
      "image/png": "[encoded data removed]",
      "text/plain": [
       "<Figure size 432x288 with 4 Axes>"
      ]
     },
     "metadata": {
      "needs_background": "light"
     },
     "output_type": "display_data"
    }
   ],
   "source": [
    "for df in [df0, df1, df2]:\n",
    "    print(df.describe())\n",
    "    df.hist()\n"
   ]
  },
  {
   "cell_type": "markdown",
   "metadata": {},
   "source": [
    "Имеем три датафрейма по 100 тысяч объектов в каждом и 4 признака, один из которых ('product') будет принят в качестве целевого.\n",
    "Пропусков и повторов в сколько-нибудь значимых количествах не обнаружено. Распределение всех признаков, за исключением 'f2' и 'product' в датафрейме под номером 1, напоминает нормальное. "
   ]
  },
  {
   "cell_type": "code",
   "execution_count": 6,
   "metadata": {},
   "outputs": [
    {
     "name": "stdout",
     "output_type": "stream",
     "text": [
      "             f0        f1        f2\n",
      "42083  0.331011 -0.288668  6.134432\n",
      "71825 -0.027196  0.189525  0.160777\n",
      "99535 -0.982324  0.286965 -2.163846\n",
      "47879  0.686155  0.797873  2.689418\n",
      "36734  0.603928  0.605621  5.852418\n",
      "42083    145.825972\n",
      "71825    134.020212\n",
      "99535     88.905826\n",
      "47879     19.508226\n",
      "36734    108.713468\n",
      "Name: product, dtype: float64\n"
     ]
    }
   ],
   "source": [
    "# \n",
    "\n",
    "target0 = df0['product']\n",
    "features0 = df0.drop(['product', 'id'], axis=1)\n",
    "target1 = df1['product']\n",
    "features1 = df1.drop(['product', 'id'], axis=1)\n",
    "target2 = df2['product']\n",
    "features2 = df2.drop(['product', 'id'], axis=1)\n",
    "\n",
    "# Разделим выборки на обучающую и валидационную для каждого из регионов:\n",
    "\n",
    "features0_train, features0_valid, target0_train, target0_valid = train_test_split(features0, target0, test_size = 0.25, random_state = 123)\n",
    "features1_train, features1_valid, target1_train, target1_valid = train_test_split(features1, target1, test_size = 0.25, random_state = 123)\n",
    "features2_train, features2_valid, target2_train, target2_valid = train_test_split(features2, target2, test_size = 0.25, random_state = 123)\n",
    "\n",
    "print(features0_valid.head())\n",
    "\n",
    "print(target0_valid.head())"
   ]
  },
  {
   "cell_type": "markdown",
   "metadata": {},
   "source": [
    "Разделим признаки на целевой и прочие. Разделим получившиеся выборки на обучающую и валидационную в соотношении 3:1 в соответствии с заданием. Выведем две из получившихся выборок на экран, чтобы проверить, как прошло разделение."
   ]
  },
  {
   "cell_type": "code",
   "execution_count": 7,
   "metadata": {},
   "outputs": [
    {
     "name": "stdout",
     "output_type": "stream",
     "text": [
      "features0_train до масштабирования:\n",
      "              f0        f1        f2\n",
      "31450  0.304856 -0.439498  6.551519\n",
      "42809  0.585391  0.964728  0.463974\n",
      "52419  0.339017  0.921952  2.210054\n",
      "features0_train после масштабирования:\n",
      "              f0        f1        f2\n",
      "31450 -0.222207 -1.370730  1.249553\n",
      "42809  0.099624  1.415305 -0.627968\n",
      "52419 -0.183017  1.330436 -0.089442\n"
     ]
    }
   ],
   "source": [
    "# Проведем масштабирование признаков f0.. f2\n",
    "\n",
    "to_be_scaled = ['f0', 'f1', 'f2']\n",
    "\n",
    "scaler = StandardScaler()\n",
    "print('features0_train до масштабирования:\\n', features0_train.head(3))\n",
    "# display('features1_train до масштабирования:\\n', features1_train.head(3))\n",
    "# display('features2_train до масштабирования:\\n', features2_train.head(3))\n",
    "\n",
    "for features_train, features_valid in zip([features0_train, features1_train, features2_train], \n",
    "                                          [features0_valid, features1_valid, features2_valid]):\n",
    "    \n",
    "    \n",
    "    scaler.fit(features_train[to_be_scaled])\n",
    "    features_train[to_be_scaled]= scaler.transform(features_train[to_be_scaled])\n",
    "    features_valid[to_be_scaled]= scaler.transform(features_valid[to_be_scaled])\n",
    "\n",
    "\n",
    "print('features0_train после масштабирования:\\n', features0_train.head(3))\n",
    "# display('features1_train после масштабирования:\\n', features1_train.head(3))\n",
    "# display('features2_train после масштабирования:\\n', features2_train.head(3))"
   ]
  },
  {
   "cell_type": "markdown",
   "metadata": {},
   "source": [
    "Поскольку принятая в здесь качестве используемой модели линейная регрессия чувствительна к различиям в абсолютных величинах признаков, проведем их масштабирование с использованием класса StandardScaler. Постоянно повторяющиеся действия обернем в цикл, чтобы сократить запись и повысить читаемость кода. Выведем одну из масштабируемых выборок на экран до и после предпринятых действий, чтобы оценить результат."
   ]
  },
  {
   "cell_type": "markdown",
   "metadata": {},
   "source": [
    "# 2. Обучение и проверка модели"
   ]
  },
  {
   "cell_type": "code",
   "execution_count": 8,
   "metadata": {},
   "outputs": [
    {
     "name": "stdout",
     "output_type": "stream",
     "text": [
      "{'copy_X': True, 'fit_intercept': True, 'normalize': True}\n",
      "{'copy_X': True, 'fit_intercept': True, 'normalize': True}\n",
      "{'copy_X': True, 'fit_intercept': True, 'normalize': True}\n"
     ]
    }
   ],
   "source": [
    "model = LinearRegression()\n",
    "for features_train, target_train in zip([features0_train, features1_train, features2_train], \n",
    "                                        [target0_train, target1_train, target2_train]):\n",
    "    lir_params = {'fit_intercept': [True, False],\n",
    "                  'normalize': [True, False]\n",
    "\n",
    "                  }\n",
    "\n",
    "    lir_cv = GridSearchCV(model, lir_params)\n",
    "    lir_cv.fit(features_train, target_train)\n",
    "    print(lir_cv.best_params_)"
   ]
  },
  {
   "cell_type": "markdown",
   "metadata": {},
   "source": [
    "Проведём подбор оптимальных гиперпараметров с использованием метода GridSearchCV. "
   ]
  },
  {
   "cell_type": "code",
   "execution_count": 9,
   "metadata": {},
   "outputs": [],
   "source": [
    "# Обучим модель линейной регрессии отдельно для каждого региона:\n",
    "model = LinearRegression(fit_intercept=True, normalize=True, copy_X=True)\n",
    "\n",
    "# Обернём повторяющийся блок кода в функцию и вызовем её поочередно для каждого региона:\n",
    "def linear_predict(features_train, target_train, features_valid, target_valid):\n",
    "    model.fit(features_train, target_train)\n",
    "    prediction = model.predict(features_valid)\n",
    "    prediction = pd.Series(prediction, index=target_valid.index)\n",
    "    print('Прогнозные значения (5 первых):\\n', prediction.head())\n",
    "    print('Реальные значения (5 первых):\\n', target_valid.head())\n",
    "    \n",
    "    print('Средние предсказанные резервы: ', prediction.mean())\n",
    "    print('Средние реальные резервы: ', target_valid.mean())\n",
    "    print('RMSE: ', mean_squared_error(target_valid, prediction)**0.5)\n",
    "    prediction.hist()\n",
    "    \n",
    "    pl.suptitle(\"Распределение прогнозируемых резервов\")\n",
    "    \n",
    "    return prediction"
   ]
  },
  {
   "cell_type": "code",
   "execution_count": 10,
   "metadata": {},
   "outputs": [
    {
     "name": "stdout",
     "output_type": "stream",
     "text": [
      "Прогнозные значения (5 первых):\n",
      " 42083    123.284256\n",
      "71825     75.838240\n",
      "99535     55.526760\n",
      "47879     86.673045\n",
      "36734    109.909327\n",
      "dtype: float64\n",
      "Реальные значения (5 первых):\n",
      " 42083    145.825972\n",
      "71825    134.020212\n",
      "99535     88.905826\n",
      "47879     19.508226\n",
      "36734    108.713468\n",
      "Name: product, dtype: float64\n",
      "Средние предсказанные резервы:  92.54936189116309\n",
      "Средние реальные резервы:  92.85062391123445\n",
      "RMSE:  37.64786282376177\n"
     ]
    },
    {
     "data": {
      "image/png": "[encoded data removed]",
      "text/plain": [
       "<Figure size 432x288 with 1 Axes>"
      ]
     },
     "metadata": {
      "needs_background": "light"
     },
     "output_type": "display_data"
    }
   ],
   "source": [
    "prediction0 = linear_predict(features0_train, target0_train, features0_valid, target0_valid)   \n"
   ]
  },
  {
   "cell_type": "code",
   "execution_count": 11,
   "metadata": {},
   "outputs": [
    {
     "name": "stdout",
     "output_type": "stream",
     "text": [
      "Прогнозные значения (5 первых):\n",
      " 42083     56.056314\n",
      "71825     81.589811\n",
      "99535     54.461926\n",
      "47879    108.660979\n",
      "36734     54.479416\n",
      "dtype: float64\n",
      "Реальные значения (5 первых):\n",
      " 42083     57.085625\n",
      "71825     80.859783\n",
      "99535     53.906522\n",
      "47879    107.813044\n",
      "36734     53.906522\n",
      "Name: product, dtype: float64\n",
      "Средние предсказанные резервы:  69.28001860653976\n",
      "Средние реальные резервы:  69.27371236077902\n",
      "RMSE:  0.8954139804944306\n"
     ]
    },
    {
     "data": {
      "image/png": "[encoded data removed]",
      "text/plain": [
       "<Figure size 432x288 with 1 Axes>"
      ]
     },
     "metadata": {
      "needs_background": "light"
     },
     "output_type": "display_data"
    }
   ],
   "source": [
    "prediction1 = linear_predict(features1_train, target1_train, features1_valid, target1_valid)   \n"
   ]
  },
  {
   "cell_type": "code",
   "execution_count": 12,
   "metadata": {},
   "outputs": [
    {
     "name": "stdout",
     "output_type": "stream",
     "text": [
      "Прогнозные значения (5 первых):\n",
      " 42083     94.075161\n",
      "71825    122.604414\n",
      "99535     80.055039\n",
      "47879    100.175906\n",
      "36734     89.804044\n",
      "dtype: float64\n",
      "Реальные значения (5 первых):\n",
      " 42083    147.451978\n",
      "71825    128.711794\n",
      "99535    106.628185\n",
      "47879    128.787131\n",
      "36734    159.328488\n",
      "Name: product, dtype: float64\n",
      "Средние предсказанные резервы:  95.09859933591373\n",
      "Средние реальные резервы:  94.87348818660215\n",
      "RMSE:  40.12803006598514\n"
     ]
    },
    {
     "data": {
      "image/png": "[encoded data removed]",
      "text/plain": [
       "<Figure size 432x288 with 1 Axes>"
      ]
     },
     "metadata": {
      "needs_background": "light"
     },
     "output_type": "display_data"
    }
   ],
   "source": [
    "prediction2 = linear_predict(features2_train, target2_train, features2_valid, target2_valid)   "
   ]
  },
  {
   "cell_type": "markdown",
   "metadata": {},
   "source": [
    "Создадим функцию, принимающую требуемые выборки, обучающую на них модель и строящую необходимый прогноз с вычислением выбранной метрики качества (RMSE) и отображением распределения прогнозируемых резервов на гистограмме. Трижды вызовем эту функцию - отдельно для каждого исследуемого региона и оценим получившиеся результаты."
   ]
  },
  {
   "cell_type": "markdown",
   "metadata": {},
   "source": [
    "Значения средних реальных и средних предсказанных резервов лишь очень незначительно отличаются друг от друга. Разница же между отдельными значениями в предсказании и ответах иногда весьма значительна. \n",
    "Наилучшая метрика качества (корень среднеквадратичной ошибки) получена моделью для региона №1.  "
   ]
  },
  {
   "cell_type": "code",
   "execution_count": 13,
   "metadata": {},
   "outputs": [
    {
     "data": {
      "text/plain": [
       "50000000.0"
      ]
     },
     "execution_count": 13,
     "metadata": {},
     "output_type": "execute_result"
    }
   ],
   "source": [
    "BUDGET_PRO_WELL = 10000000000/200\n",
    "BUDGET_PRO_WELL"
   ]
  },
  {
   "cell_type": "code",
   "execution_count": 14,
   "metadata": {},
   "outputs": [
    {
     "data": {
      "text/plain": [
       "111.11111111111111"
      ]
     },
     "execution_count": 14,
     "metadata": {},
     "output_type": "execute_result"
    }
   ],
   "source": [
    "MINIMAL_RESERVES = BUDGET_PRO_WELL/450000\n",
    "MINIMAL_RESERVES"
   ]
  },
  {
   "cell_type": "markdown",
   "metadata": {},
   "source": [
    "Если предположить, что затраты на разработку и обслуживание каждой скважины распределены равномерно, то из условия задачи  следует, что на одну скважину придется 50 миллионов рублей бюджета, то есть запасы нефти в ней должны были бы быть не меньше 111 тыс. баррелей, что ниже средних запасов в каждом из исследуемых регионов (от 69,3 до 94,9 тыс. баррелей).\n",
    "\n",
    "Однако, поскольку цена разработки от скважины к скважине может варьироваться, а так же в бюджет с необходимостью будут включены затраты на разведку и общие для ряда скважин инфраструктурные издержки, одного этого значения недостаточно, чтобы рекомендовать регион с наибольшей прибылью и наименьшими рисками убытков. Требуется рассмотреть задачу в комплексе, т.е. взять 500 случайно разведанных скважин, отобрать из них 200 с максимальными предсказанными запасами и оценить прибыль и ее распределение."
   ]
  },
  {
   "cell_type": "markdown",
   "metadata": {},
   "source": [
    "# 3. Подготовка к расчёту прибыли"
   ]
  },
  {
   "cell_type": "code",
   "execution_count": 15,
   "metadata": {},
   "outputs": [],
   "source": [
    "# Сохраним ключевые для расчёта себестоимости значения в отдельных переменных:\n",
    "PROFIT_PRO_BARREL = 450\n",
    "EXTRACTION_COST = 10000000000\n"
   ]
  },
  {
   "cell_type": "code",
   "execution_count": 16,
   "metadata": {},
   "outputs": [],
   "source": [
    "\n",
    "def profit(real_reserves, predicted_reserves, selected_sites):\n",
    "\n",
    "    predicted_reserves_sorted = predicted_reserves.sort_values(ascending=False)\n",
    "    selected = real_reserves[predicted_reserves_sorted.index][:selected_sites]\n",
    "    return PROFIT_PRO_BARREL*1000 * selected.sum() - EXTRACTION_COST"
   ]
  },
  {
   "cell_type": "markdown",
   "metadata": {},
   "source": [
    "Напишем функцию, вычисляющую прибыль от эксплуатации 200 (при selected_sites=200) скважин с наибольшими резервами из поданных на вход данных о реальных и прогнозируемых запасах на 500 скважинах. "
   ]
  },
  {
   "cell_type": "code",
   "execution_count": 17,
   "metadata": {},
   "outputs": [],
   "source": [
    "\n",
    "\n",
    "def bootstrap(target_valid, prediction, subsamples_number, selected_sites, region_name):\n",
    "    state = np.random.RandomState(123)\n",
    "    profit_values = []\n",
    "    \n",
    "\n",
    "    for i in range(subsamples_number):\n",
    "        target_subsample = target_valid.sample(n=500, replace=True, random_state=state)\n",
    "        prediction_subsample = prediction[target_subsample.index]\n",
    "        profit_values.append(profit(target_subsample, prediction_subsample, selected_sites))\n",
    "        \n",
    "    profit_values = pd.Series(profit_values)\n",
    "    lower = profit_values.quantile(0.025)\n",
    "    upper = profit_values.quantile(0.975)\n",
    "    print('Нижняя граница 95%-интервала:{:.2} млрд. руб'.format(lower/1000000000))\n",
    "    print('Верхняя граница 95%-интервала:{:.2}, млрд. руб'.format(upper/1000000000))\n",
    "    print('Средняя прибыль по региону {}: {:.2}'.format(region_name, profit_values.mean()/1000000000), 'млрд. руб')\n",
    "    print('Риск убытка по региону {}: {}%'.format(region_name, 100*profit_values[profit_values<0].count()/profit_values.count()))\n",
    "\n",
    "    plt.hist(profit_values, density=1, bins=30, facecolor='g', alpha=0.75)\n",
    "    ax=plt.axvline(x=lower, color='r', linestyle='--', label='Границы 95%-\\nинтервала')\n",
    "    plt.axvline(x=upper, color='r', linestyle='-.')\n",
    "    ax1=plt.axvline(x=profit_values.mean(), color='b', linestyle='--', label='Средняя прибыль')\n",
    "    pl.suptitle(\"Распределение прибыли в регионе {}\".format(region_name))    \n",
    "    plt.legend(handles=[ax, ax1])\n",
    "    plt.show()\n",
    "\n",
    "    return profit_values, profit_values.mean(), 100*profit_values[profit_values<0].count()/profit_values.count()\n"
   ]
  },
  {
   "cell_type": "markdown",
   "metadata": {},
   "source": [
    "Функция \"bootstrap\" выбирает из списка с ответами 500 случайных объектов (с возвращением), и, вместе с 500 соответствующими им (по индексу) значениями предсказаний, передает их на вход функции \"profit\", записывая получившийся ответ в лист. Процедура повторяется 1000 раз (при subsamples_number=1000) - составленный таким образом вектор позволит построить гистограмму распределения прибыли.    "
   ]
  },
  {
   "cell_type": "markdown",
   "metadata": {},
   "source": [
    "# 4. Расчёт прибыли и рисков "
   ]
  },
  {
   "cell_type": "code",
   "execution_count": 18,
   "metadata": {
    "scrolled": false
   },
   "outputs": [
    {
     "name": "stdout",
     "output_type": "stream",
     "text": [
      "Нижняя граница 95%-интервала:-0.052 млрд. руб\n",
      "Верхняя граница 95%-интервала:1.0, млрд. руб\n",
      "Средняя прибыль по региону 0: 0.5 млрд. руб\n",
      "Риск убытка по региону 0: 4.0%\n"
     ]
    },
    {
     "data": {
      "image/png": "[encoded data removed]",
      "text/plain": [
       "<Figure size 432x288 with 1 Axes>"
      ]
     },
     "metadata": {
      "needs_background": "light"
     },
     "output_type": "display_data"
    }
   ],
   "source": [
    "profit0_values, profit0_mean, loss0_risk = bootstrap(target0_valid, prediction0, subsamples_number=1000, selected_sites=200, region_name='0')\n"
   ]
  },
  {
   "cell_type": "code",
   "execution_count": 19,
   "metadata": {
    "scrolled": false
   },
   "outputs": [
    {
     "name": "stdout",
     "output_type": "stream",
     "text": [
      "Нижняя граница 95%-интервала:0.1 млрд. руб\n",
      "Верхняя граница 95%-интервала:0.96, млрд. руб\n",
      "Средняя прибыль по региону 1: 0.54 млрд. руб\n",
      "Риск убытка по региону 1: 0.5%\n"
     ]
    },
    {
     "data": {
      "image/png": "[encoded data removed]",
      "text/plain": [
       "<Figure size 432x288 with 1 Axes>"
      ]
     },
     "metadata": {
      "needs_background": "light"
     },
     "output_type": "display_data"
    }
   ],
   "source": [
    "profit1_values, profit1_mean, loss1_risk = bootstrap(target1_valid, prediction1, subsamples_number=1000, selected_sites=200, region_name='1')\n"
   ]
  },
  {
   "cell_type": "code",
   "execution_count": 20,
   "metadata": {
    "scrolled": false
   },
   "outputs": [
    {
     "name": "stdout",
     "output_type": "stream",
     "text": [
      "Нижняя граница 95%-интервала:-0.22 млрд. руб\n",
      "Верхняя граница 95%-интервала:0.91, млрд. руб\n",
      "Средняя прибыль по региону 2: 0.36 млрд. руб\n",
      "Риск убытка по региону 2: 9.5%\n"
     ]
    },
    {
     "data": {
      "image/png": "[encoded data removed]",
      "text/plain": [
       "<Figure size 432x288 with 1 Axes>"
      ]
     },
     "metadata": {
      "needs_background": "light"
     },
     "output_type": "display_data"
    }
   ],
   "source": [
    "profit2_values, profit2_mean, loss2_risk = bootstrap(target2_valid, prediction2, subsamples_number=1000, selected_sites=200, region_name='2')\n"
   ]
  },
  {
   "cell_type": "markdown",
   "metadata": {},
   "source": [
    "Применим ранее описанные функции к данным по каждому из трех интересующих нас регионов. Риск убытка варьируется от 9.5 до 0.5%, средняя прибыль - от 0.36 млрд. до 0.54 млрд. рублей. Единственным удовлетворяющим критерию минимизации риска убытков (не более 2.5%) регионом является регион №1. "
   ]
  },
  {
   "cell_type": "markdown",
   "metadata": {},
   "source": [
    "# Вывод"
   ]
  },
  {
   "cell_type": "markdown",
   "metadata": {},
   "source": [
    "В ходе выполнения проекта были проанализированы данные о нефтяных скважинах в трёх регионах. Данные были проверены на предмет пропусков и артефактов, а так же подготовлены к использованию модели линейной регрессии (проведено масштабирование). Были обученымодели, прогнозирующие запасы нефти с учетом особенностей каждого региона, а так же проведена оценка качества этих моделей с исользованием метрики RMSE. Поскольку более простые методы (оценка необходимых средних запасов) не позволяли с делать сколько-нибудь надёжных выводов, для построения распределения прогнозируемой прибыли и обоснованного выбора региона, где добыча принесет наибольшую прибыль, была использована техника Bootstrap. Выводы были подкреплены графическим представлением в виде гистаграмм.\n",
    "\n",
    "\n",
    "\n",
    "По итогу исследования необходимо было оставить лишь регионы с риском убытков ниже 2.5% - в нашем случае этому критерию удовлетворяет лишь регион №1. На этот же регион приходится и максимальная средняя прогнозируемая прибыль - 0.538 млрд. рублей. Таким образом, мы имеем все основания выбрать регион №1 в качестве рекомендованного к разработке."
   ]
  }
 ],
 "metadata": {
  "kernelspec": {
   "display_name": "Python 3",
   "language": "python",
   "name": "python3"
  },
  "language_info": {
   "codemirror_mode": {
    "name": "ipython",
    "version": 3
   },
   "file_extension": ".py",
   "mimetype": "text/x-python",
   "name": "python",
   "nbconvert_exporter": "python",
   "pygments_lexer": "ipython3",
   "version": "3.7.7"
  }
 },
 "nbformat": 4,
 "nbformat_minor": 2
}
